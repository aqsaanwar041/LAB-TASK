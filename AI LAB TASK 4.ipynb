{
 "cells": [
  {
   "cell_type": "code",
   "execution_count": null,
   "metadata": {},
   "outputs": [],
   "source": [
    "TASK 4:\n",
    "def luhn_check(card_number):\n",
    "    digits = [int(d) for d in str(card_number)][::-1]\n",
    "    for i in range(1, len(digits), 2):\n",
    "        digits[i] = digits[i] * 2\n",
    "        if digits[i] > 9:\n",
    "            digits[i] -= 9\n",
    "    return sum(digits) % 10 == 0\n",
    "\n",
    "card_number = \"4532015112830366\"\n",
    "print(\"Valid Card\" if luhn_check(card_number) else \"Invalid Card\")"
   ]
  },
  {
   "cell_type": "code",
   "execution_count": null,
   "metadata": {},
   "outputs": [],
   "source": [
    "import string\n",
    "\n",
    "def remove_punctuation(text):\n",
    "    return text.translate(str.maketrans('', '', string.punctuation))\n",
    "\n",
    "\n",
    "text = \"Hello, world! How's it going?\"\n",
    "print(remove_punctuation(text))  \n",
    " Output: \"Hello world Hows it going\""
   ]
  },
  {
   "cell_type": "code",
   "execution_count": null,
   "metadata": {},
   "outputs": [],
   "source": [
    "def sort_sentence(sentence):\n",
    "    words = sentence.split()\n",
    "    words.sort(key=str.lower)  \n",
    "    return ' '.join(words)\n",
    "\n",
    "sentence = \"The quick brown fox jumps over the lazy dog\"\n",
    "print(sort_sentence(sentence))  \n",
    "Output: \"brown dog fox jumps lazy over quick The the\""
   ]
  }
 ],
 "metadata": {
  "language_info": {
   "name": "python"
  }
 },
 "nbformat": 4,
 "nbformat_minor": 2
}
