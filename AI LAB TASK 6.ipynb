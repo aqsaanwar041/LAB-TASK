{
 "cells": [
  {
   "cell_type": "code",
   "execution_count": null,
   "metadata": {},
   "outputs": [],
   "source": [
    "TASK 6:\n",
    "def bfs_recursive(graph, node, visited=None, result=None):\n",
    "    if visited is None:\n",
    "        visited = set()\n",
    "        result = []\n",
    "\n",
    "    if node not in visited:\n",
    "        result.append(node)\n",
    "        visited.add(node)\n",
    "\n",
    "        for neighbor in graph.get(node, []):\n",
    "            bfs_recursive(graph, neighbor, visited, result)\n",
    "\n",
    "    return resul\n",
    "graph = {\n",
    "    'A': ['B', 'C'],\n",
    "    'B': ['D', 'E'],\n",
    "    'C': ['F'],\n",
    "    'D': [],\n",
    "    'E': [],\n",
    "    'F': []\n",
    "}\n",
    "\n",
    "print(\"BFS without Queue:\", bfs_recursive(graph, 'A'))"
   ]
  },
  {
   "cell_type": "code",
   "execution_count": null,
   "metadata": {},
   "outputs": [],
   "source": [
    "from collections import deque\n",
    "\n",
    "class Node:\n",
    "    def _init_(self, value):\n",
    "        self.value = value\n",
    "        self.children = []\n",
    "\n",
    "    def add_child(self, child):\n",
    "        self.children.append(child)\n",
    "\n",
    "def bfs_queue(root):\n",
    "    queue = deque([root])\n",
    "    visited = set()\n",
    "\n",
    "    while queue:\n",
    "        node = queue.popleft()\n",
    "        if node.value not in visited:\n",
    "            print(node.value, end=\" \")\n",
    "            visited.add(node.value)\n",
    "            queue.extend(node.children)\n",
    "a = Node('A')\n",
    "b = Node('B')\n",
    "c = Node('C')\n",
    "d = Node('D')\n",
    "e = Node('E')\n",
    "f = Node('F')\n",
    "\n",
    "a.add_child(b)\n",
    "a.add_child(c)\n",
    "b.add_child(d)\n",
    "b.add_child(e)\n",
    "c.add_child(f)\n",
    "\n",
    "print(\"BFS with Queue:\")\n",
    "bfs_queue(a)"
   ]
  }
 ],
 "metadata": {
  "language_info": {
   "name": "python"
  }
 },
 "nbformat": 4,
 "nbformat_minor": 2
}
