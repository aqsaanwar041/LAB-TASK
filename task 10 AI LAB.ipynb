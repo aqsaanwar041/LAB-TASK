{
 "cells": [
  {
   "cell_type": "code",
   "execution_count": 1,
   "id": "e1e86e1a",
   "metadata": {},
   "outputs": [
    {
     "name": "stdout",
     "output_type": "stream",
     "text": [
      "Dataset Loaded Successfully\n",
      "   sepal_length  sepal_width  petal_length  petal_width species\n",
      "0           5.1          3.5           1.4          0.2  setosa\n",
      "1           4.9          3.0           1.4          0.2  setosa\n",
      "2           4.7          3.2           1.3          0.2  setosa\n",
      "3           4.6          3.1           1.5          0.2  setosa\n",
      "4           5.0          3.6           1.4          0.2  setosa\n",
      "Missing values in each column:\n",
      "sepal_length    0\n",
      "sepal_width     0\n",
      "petal_length    0\n",
      "petal_width     0\n",
      "species         0\n",
      "dtype: int64\n",
      "Missing values handled (if any).\n",
      "Data types before conversion:\n",
      "sepal_length    float64\n",
      "sepal_width     float64\n",
      "petal_length    float64\n",
      "petal_width     float64\n",
      "species          object\n",
      "dtype: object\n",
      "Data types after conversion to int:\n",
      "sepal_length     int32\n",
      "sepal_width      int32\n",
      "petal_length     int32\n",
      "petal_width      int32\n",
      "species         object\n",
      "dtype: object\n",
      "Updated Dataset:\n",
      "   sepal_length  sepal_width  petal_length  petal_width species\n",
      "0             5            4             1            0  setosa\n",
      "1             5            3             1            0  setosa\n",
      "2             5            3             1            0  setosa\n",
      "3             5            3             2            0  setosa\n",
      "4             5            4             1            0  setosa\n"
     ]
    }
   ],
   "source": [
    "import pandas as pd\n",
    "import seaborn as sns\n",
    "df = sns.load_dataset('iris')\n",
    "print(\"Dataset Loaded Successfully\")\n",
    "print(df.head())\n",
    "print(\"Missing values in each column:\")\n",
    "print(df.isnull().sum())\n",
    "df = df.fillna(df.mean(numeric_only=True))\n",
    "print(\"Missing values handled (if any).\")\n",
    "print(\"Data types before conversion:\")\n",
    "print(df.dtypes)\n",
    "df['sepal_length'] = df['sepal_length'].round().astype(int)\n",
    "df['sepal_width'] = df['sepal_width'].round().astype(int)\n",
    "df['petal_length'] = df['petal_length'].round().astype(int)\n",
    "df['petal_width'] = df['petal_width'].round().astype(int)\n",
    "\n",
    "print(\"Data types after conversion to int:\")\n",
    "print(df.dtypes)\n",
    "print(\"Updated Dataset:\")\n",
    "print(df.head())\n",
    "\n",
    "\n"
   ]
  }
 ],
 "metadata": {
  "kernelspec": {
   "display_name": "base",
   "language": "python",
   "name": "python3"
  },
  "language_info": {
   "codemirror_mode": {
    "name": "ipython",
    "version": 3
   },
   "file_extension": ".py",
   "mimetype": "text/x-python",
   "name": "python",
   "nbconvert_exporter": "python",
   "pygments_lexer": "ipython3",
   "version": "3.12.7"
  }
 },
 "nbformat": 4,
 "nbformat_minor": 5
}
