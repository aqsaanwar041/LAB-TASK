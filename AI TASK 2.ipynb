{
 "cells": [
  {
   "cell_type": "code",
   "execution_count": null,
   "metadata": {},
   "outputs": [],
   "source": [
    "TASK 2:\n",
    "def fizz_buzz(n):\n",
    "    for i in range(1, n+1):\n",
    "        if i % 3 == 0 and i % 5 == 0:\n",
    "            print(\"FizzBuzz\")\n",
    "        elif i % 3 == 0:\n",
    "            print(\"Fizz\")\n",
    "        elif i % 5 == 0:\n",
    "            print(\"Buzz\")\n",
    "        else:\n",
    "            print(i)\n",
    "\n",
    "fizz_buzz(100)"
   ]
  }
 ],
 "metadata": {
  "language_info": {
   "name": "python"
  }
 },
 "nbformat": 4,
 "nbformat_minor": 2
}
