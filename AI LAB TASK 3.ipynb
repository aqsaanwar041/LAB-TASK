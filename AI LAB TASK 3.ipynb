{
 "cells": [
  {
   "cell_type": "code",
   "execution_count": null,
   "metadata": {},
   "outputs": [],
   "source": [
    "TASK 3:\n",
    "class ModelBasedReflexAgent:\n",
    "    def _init_(self):\n",
    "        self.previous_action = None  \n",
    "    def decide_action(self, temperature, threshold=22):\n",
    "        if temperature < threshold and self.previous_action != \"Heater ON\":\n",
    "            self.previous_action = \"Heater ON\"\n",
    "        elif temperature >= threshold and self.previous_action != \"Heater OFF\":\n",
    "            self.previous_action = \"Heater OFF\"\n",
    "        return self.previous_action\n",
    "agent = ModelBasedReflexAgent()\n",
    "temperatures = [18, 20, 22, 23, 19, 21]\n",
    "\n",
    "for temp in temperatures:\n",
    "    print(f\"Temperature: {temp}°C -> Action: {agent.decide_action(temp)}\")"
   ]
  }
 ],
 "metadata": {
  "language_info": {
   "name": "python"
  }
 },
 "nbformat": 4,
 "nbformat_minor": 2
}
