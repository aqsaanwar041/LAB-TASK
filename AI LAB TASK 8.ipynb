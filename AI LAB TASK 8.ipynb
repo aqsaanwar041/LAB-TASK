{
 "cells": [
  {
   "cell_type": "code",
   "execution_count": null,
   "metadata": {},
   "outputs": [],
   "source": [
    "TASK 8:"
   ]
  },
  {
   "cell_type": "code",
   "execution_count": null,
   "metadata": {},
   "outputs": [],
   "source": [
    "import math\n",
    "def minimax(depth, node_index, is_max, scores, height):\n",
    "    if depth == height:\n",
    "        return scores[node_index]\n",
    "if is_max:\n",
    "        return max(\n",
    "            minimax(depth + 1, node_index * 2, False, scores, height),\n",
    "            minimax(depth + 1, node_index * 2 + 1, False, scores, height))\n",
    "    else:\n",
    "        return min(\n",
    "            minimax(depth + 1, node_index * 2, True, scores, height),\n",
    "            minimax(depth + 1, node_index * 2 + 1, True, scores, height)\n",
    "        )\n",
    "\n",
    "scores = [3, 5, 2, 9, 12, 5, 23, 23]  \n",
    "tree_height = math.log2(len(scores))  \n",
    "\n",
    "optimal_value = minimax(0, 0, True, scores, int(tree_height))\n",
    "\n",
    "print(\"The optimal value is:\", optimal_value)"
   ]
  }
 ],
 "metadata": {
  "language_info": {
   "name": "python"
  }
 },
 "nbformat": 4,
 "nbformat_minor": 2
}
